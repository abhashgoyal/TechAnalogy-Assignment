{
 "cells": [
  {
   "cell_type": "code",
   "execution_count": 16,
   "metadata": {},
   "outputs": [],
   "source": [
    "import pandas as pd\n",
    "import numpy as np\n",
    "import random"
   ]
  },
  {
   "cell_type": "code",
   "execution_count": 21,
   "metadata": {},
   "outputs": [],
   "source": [
    "num_rows = 20000\n",
    "\n",
    "Location = ['Nagpur','Ahmedabad', 'Raipur', 'Mumbai', 'Delhi', 'Bangalore' , 'Hyderabad']\n",
    "\n",
    "College = ['Ramdeobaba Univerisity', 'IIM A', 'BIITS Raipur', 'IIT Bombay','IIT Delhi','IIIT Hyderabad','VNIT Nagpur','IIM Bangalore']\n",
    "\n",
    "Year_of_study=['1st','2nd','3rd','4th']\n",
    "\n",
    "Program_Intrest = ['Data Science','Artificial Intelligence','Finance', 'Human Resource','Computer Science','Robotics']\n",
    "\n",
    "Lead_Source = ['Instagram','Linkedin','Google Form','Whatsapp','College Colloboration']\n",
    "\n"
   ]
  },
  {
   "cell_type": "code",
   "execution_count": 22,
   "metadata": {},
   "outputs": [],
   "source": [
    "data = {\n",
    "    'Lead_ID': [f'LD{i+1}' for i in range (num_rows)],\n",
    "    'Location' : [random.choice(Location) for _ in range(num_rows)],\n",
    "    'College': [random.choice(College) for _ in range(num_rows)],\n",
    "    'Year Of Study': [random.choice(Year_of_study) for _ in range(num_rows)],\n",
    "    'Program Intrest': [random.choice(Program_Intrest) for _ in range(num_rows)],\n",
    "    'Lead Source': [random.choice(Lead_Source) for _ in range(num_rows)],\n",
    "}"
   ]
  },
  {
   "cell_type": "code",
   "execution_count": 23,
   "metadata": {},
   "outputs": [],
   "source": [
    "data = pd.DataFrame(data)"
   ]
  },
  {
   "cell_type": "code",
   "execution_count": 24,
   "metadata": {},
   "outputs": [],
   "source": [
    "data.to_csv('Data.csv',index=False)"
   ]
  },
  {
   "cell_type": "code",
   "execution_count": null,
   "metadata": {},
   "outputs": [],
   "source": []
  }
 ],
 "metadata": {
  "kernelspec": {
   "display_name": "venv",
   "language": "python",
   "name": "python3"
  },
  "language_info": {
   "codemirror_mode": {
    "name": "ipython",
    "version": 3
   },
   "file_extension": ".py",
   "mimetype": "text/x-python",
   "name": "python",
   "nbconvert_exporter": "python",
   "pygments_lexer": "ipython3",
   "version": "3.12.8"
  }
 },
 "nbformat": 4,
 "nbformat_minor": 2
}
