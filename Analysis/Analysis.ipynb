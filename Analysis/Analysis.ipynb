{
 "cells": [
  {
   "cell_type": "code",
   "execution_count": 19,
   "metadata": {},
   "outputs": [],
   "source": [
    "import pandas as pd\n",
    "import numpy as np\n",
    "import matplotlib.pyplot as plt\n"
   ]
  },
  {
   "cell_type": "code",
   "execution_count": 20,
   "metadata": {},
   "outputs": [],
   "source": [
    "data = pd.read_csv(r'C:\\D\\Project\\TechAnalogy\\Dataset\\Data.csv')\n"
   ]
  },
  {
   "cell_type": "code",
   "execution_count": 21,
   "metadata": {},
   "outputs": [
    {
     "data": {
      "text/html": [
       "<div>\n",
       "<style scoped>\n",
       "    .dataframe tbody tr th:only-of-type {\n",
       "        vertical-align: middle;\n",
       "    }\n",
       "\n",
       "    .dataframe tbody tr th {\n",
       "        vertical-align: top;\n",
       "    }\n",
       "\n",
       "    .dataframe thead th {\n",
       "        text-align: right;\n",
       "    }\n",
       "</style>\n",
       "<table border=\"1\" class=\"dataframe\">\n",
       "  <thead>\n",
       "    <tr style=\"text-align: right;\">\n",
       "      <th></th>\n",
       "      <th>Lead_ID</th>\n",
       "      <th>Location</th>\n",
       "      <th>College</th>\n",
       "      <th>Year Of Study</th>\n",
       "      <th>Program Intrest</th>\n",
       "      <th>Lead Source</th>\n",
       "    </tr>\n",
       "  </thead>\n",
       "  <tbody>\n",
       "    <tr>\n",
       "      <th>0</th>\n",
       "      <td>LD1</td>\n",
       "      <td>Ahmedabad</td>\n",
       "      <td>IIT Delhi</td>\n",
       "      <td>2nd</td>\n",
       "      <td>Data Science</td>\n",
       "      <td>College Colloboration</td>\n",
       "    </tr>\n",
       "    <tr>\n",
       "      <th>1</th>\n",
       "      <td>LD2</td>\n",
       "      <td>Ahmedabad</td>\n",
       "      <td>IIT Delhi</td>\n",
       "      <td>4th</td>\n",
       "      <td>Artificial Intelligence</td>\n",
       "      <td>Instagram</td>\n",
       "    </tr>\n",
       "    <tr>\n",
       "      <th>2</th>\n",
       "      <td>LD3</td>\n",
       "      <td>Delhi</td>\n",
       "      <td>IIT Delhi</td>\n",
       "      <td>4th</td>\n",
       "      <td>Data Science</td>\n",
       "      <td>Google Form</td>\n",
       "    </tr>\n",
       "    <tr>\n",
       "      <th>3</th>\n",
       "      <td>LD4</td>\n",
       "      <td>Bangalore</td>\n",
       "      <td>VNIT Nagpur</td>\n",
       "      <td>4th</td>\n",
       "      <td>Human Resource</td>\n",
       "      <td>Instagram</td>\n",
       "    </tr>\n",
       "    <tr>\n",
       "      <th>4</th>\n",
       "      <td>LD5</td>\n",
       "      <td>Raipur</td>\n",
       "      <td>BIITS Raipur</td>\n",
       "      <td>4th</td>\n",
       "      <td>Computer Science</td>\n",
       "      <td>Linkedin</td>\n",
       "    </tr>\n",
       "    <tr>\n",
       "      <th>...</th>\n",
       "      <td>...</td>\n",
       "      <td>...</td>\n",
       "      <td>...</td>\n",
       "      <td>...</td>\n",
       "      <td>...</td>\n",
       "      <td>...</td>\n",
       "    </tr>\n",
       "    <tr>\n",
       "      <th>19995</th>\n",
       "      <td>LD19996</td>\n",
       "      <td>Ahmedabad</td>\n",
       "      <td>IIT Bombay</td>\n",
       "      <td>4th</td>\n",
       "      <td>Finance</td>\n",
       "      <td>Linkedin</td>\n",
       "    </tr>\n",
       "    <tr>\n",
       "      <th>19996</th>\n",
       "      <td>LD19997</td>\n",
       "      <td>Nagpur</td>\n",
       "      <td>IIT Bombay</td>\n",
       "      <td>3rd</td>\n",
       "      <td>Human Resource</td>\n",
       "      <td>Linkedin</td>\n",
       "    </tr>\n",
       "    <tr>\n",
       "      <th>19997</th>\n",
       "      <td>LD19998</td>\n",
       "      <td>Mumbai</td>\n",
       "      <td>IIM A</td>\n",
       "      <td>4th</td>\n",
       "      <td>Finance</td>\n",
       "      <td>Google Form</td>\n",
       "    </tr>\n",
       "    <tr>\n",
       "      <th>19998</th>\n",
       "      <td>LD19999</td>\n",
       "      <td>Ahmedabad</td>\n",
       "      <td>IIT Bombay</td>\n",
       "      <td>1st</td>\n",
       "      <td>Computer Science</td>\n",
       "      <td>Whatsapp</td>\n",
       "    </tr>\n",
       "    <tr>\n",
       "      <th>19999</th>\n",
       "      <td>LD20000</td>\n",
       "      <td>Bangalore</td>\n",
       "      <td>IIM A</td>\n",
       "      <td>3rd</td>\n",
       "      <td>Data Science</td>\n",
       "      <td>Instagram</td>\n",
       "    </tr>\n",
       "  </tbody>\n",
       "</table>\n",
       "<p>20000 rows × 6 columns</p>\n",
       "</div>"
      ],
      "text/plain": [
       "       Lead_ID   Location       College Year Of Study  \\\n",
       "0          LD1  Ahmedabad     IIT Delhi           2nd   \n",
       "1          LD2  Ahmedabad     IIT Delhi           4th   \n",
       "2          LD3      Delhi     IIT Delhi           4th   \n",
       "3          LD4  Bangalore   VNIT Nagpur           4th   \n",
       "4          LD5     Raipur  BIITS Raipur           4th   \n",
       "...        ...        ...           ...           ...   \n",
       "19995  LD19996  Ahmedabad    IIT Bombay           4th   \n",
       "19996  LD19997     Nagpur    IIT Bombay           3rd   \n",
       "19997  LD19998     Mumbai         IIM A           4th   \n",
       "19998  LD19999  Ahmedabad    IIT Bombay           1st   \n",
       "19999  LD20000  Bangalore         IIM A           3rd   \n",
       "\n",
       "               Program Intrest            Lead Source  \n",
       "0                 Data Science  College Colloboration  \n",
       "1      Artificial Intelligence              Instagram  \n",
       "2                 Data Science            Google Form  \n",
       "3               Human Resource              Instagram  \n",
       "4             Computer Science               Linkedin  \n",
       "...                        ...                    ...  \n",
       "19995                  Finance               Linkedin  \n",
       "19996           Human Resource               Linkedin  \n",
       "19997                  Finance            Google Form  \n",
       "19998         Computer Science               Whatsapp  \n",
       "19999             Data Science              Instagram  \n",
       "\n",
       "[20000 rows x 6 columns]"
      ]
     },
     "execution_count": 21,
     "metadata": {},
     "output_type": "execute_result"
    }
   ],
   "source": [
    "data"
   ]
  },
  {
   "cell_type": "code",
   "execution_count": 22,
   "metadata": {},
   "outputs": [
    {
     "data": {
      "text/html": [
       "<div>\n",
       "<style scoped>\n",
       "    .dataframe tbody tr th:only-of-type {\n",
       "        vertical-align: middle;\n",
       "    }\n",
       "\n",
       "    .dataframe tbody tr th {\n",
       "        vertical-align: top;\n",
       "    }\n",
       "\n",
       "    .dataframe thead th {\n",
       "        text-align: right;\n",
       "    }\n",
       "</style>\n",
       "<table border=\"1\" class=\"dataframe\">\n",
       "  <thead>\n",
       "    <tr style=\"text-align: right;\">\n",
       "      <th></th>\n",
       "      <th>Lead_ID</th>\n",
       "      <th>Location</th>\n",
       "      <th>College</th>\n",
       "      <th>Year Of Study</th>\n",
       "      <th>Program Intrest</th>\n",
       "      <th>Lead Source</th>\n",
       "    </tr>\n",
       "  </thead>\n",
       "  <tbody>\n",
       "    <tr>\n",
       "      <th>0</th>\n",
       "      <td>LD1</td>\n",
       "      <td>Ahmedabad</td>\n",
       "      <td>IIT Delhi</td>\n",
       "      <td>2nd</td>\n",
       "      <td>Data Science</td>\n",
       "      <td>College Colloboration</td>\n",
       "    </tr>\n",
       "    <tr>\n",
       "      <th>1</th>\n",
       "      <td>LD2</td>\n",
       "      <td>Ahmedabad</td>\n",
       "      <td>IIT Delhi</td>\n",
       "      <td>4th</td>\n",
       "      <td>Artificial Intelligence</td>\n",
       "      <td>Instagram</td>\n",
       "    </tr>\n",
       "    <tr>\n",
       "      <th>2</th>\n",
       "      <td>LD3</td>\n",
       "      <td>Delhi</td>\n",
       "      <td>IIT Delhi</td>\n",
       "      <td>4th</td>\n",
       "      <td>Data Science</td>\n",
       "      <td>Google Form</td>\n",
       "    </tr>\n",
       "    <tr>\n",
       "      <th>3</th>\n",
       "      <td>LD4</td>\n",
       "      <td>Bangalore</td>\n",
       "      <td>VNIT Nagpur</td>\n",
       "      <td>4th</td>\n",
       "      <td>Human Resource</td>\n",
       "      <td>Instagram</td>\n",
       "    </tr>\n",
       "    <tr>\n",
       "      <th>4</th>\n",
       "      <td>LD5</td>\n",
       "      <td>Raipur</td>\n",
       "      <td>BIITS Raipur</td>\n",
       "      <td>4th</td>\n",
       "      <td>Computer Science</td>\n",
       "      <td>Linkedin</td>\n",
       "    </tr>\n",
       "    <tr>\n",
       "      <th>5</th>\n",
       "      <td>LD6</td>\n",
       "      <td>Bangalore</td>\n",
       "      <td>IIM A</td>\n",
       "      <td>3rd</td>\n",
       "      <td>Computer Science</td>\n",
       "      <td>Google Form</td>\n",
       "    </tr>\n",
       "    <tr>\n",
       "      <th>6</th>\n",
       "      <td>LD7</td>\n",
       "      <td>Ahmedabad</td>\n",
       "      <td>IIIT Hyderabad</td>\n",
       "      <td>2nd</td>\n",
       "      <td>Human Resource</td>\n",
       "      <td>Google Form</td>\n",
       "    </tr>\n",
       "    <tr>\n",
       "      <th>7</th>\n",
       "      <td>LD8</td>\n",
       "      <td>Delhi</td>\n",
       "      <td>BIITS Raipur</td>\n",
       "      <td>3rd</td>\n",
       "      <td>Finance</td>\n",
       "      <td>Instagram</td>\n",
       "    </tr>\n",
       "    <tr>\n",
       "      <th>8</th>\n",
       "      <td>LD9</td>\n",
       "      <td>Mumbai</td>\n",
       "      <td>IIM A</td>\n",
       "      <td>1st</td>\n",
       "      <td>Human Resource</td>\n",
       "      <td>Instagram</td>\n",
       "    </tr>\n",
       "    <tr>\n",
       "      <th>9</th>\n",
       "      <td>LD10</td>\n",
       "      <td>Ahmedabad</td>\n",
       "      <td>Ramdeobaba Univerisity</td>\n",
       "      <td>3rd</td>\n",
       "      <td>Finance</td>\n",
       "      <td>Linkedin</td>\n",
       "    </tr>\n",
       "    <tr>\n",
       "      <th>10</th>\n",
       "      <td>LD11</td>\n",
       "      <td>Raipur</td>\n",
       "      <td>IIM Bangalore</td>\n",
       "      <td>4th</td>\n",
       "      <td>Computer Science</td>\n",
       "      <td>Google Form</td>\n",
       "    </tr>\n",
       "    <tr>\n",
       "      <th>11</th>\n",
       "      <td>LD12</td>\n",
       "      <td>Bangalore</td>\n",
       "      <td>VNIT Nagpur</td>\n",
       "      <td>3rd</td>\n",
       "      <td>Computer Science</td>\n",
       "      <td>Linkedin</td>\n",
       "    </tr>\n",
       "    <tr>\n",
       "      <th>12</th>\n",
       "      <td>LD13</td>\n",
       "      <td>Nagpur</td>\n",
       "      <td>IIM Bangalore</td>\n",
       "      <td>3rd</td>\n",
       "      <td>Robotics</td>\n",
       "      <td>Google Form</td>\n",
       "    </tr>\n",
       "    <tr>\n",
       "      <th>13</th>\n",
       "      <td>LD14</td>\n",
       "      <td>Hyderabad</td>\n",
       "      <td>IIT Delhi</td>\n",
       "      <td>4th</td>\n",
       "      <td>Human Resource</td>\n",
       "      <td>Instagram</td>\n",
       "    </tr>\n",
       "    <tr>\n",
       "      <th>14</th>\n",
       "      <td>LD15</td>\n",
       "      <td>Nagpur</td>\n",
       "      <td>IIT Delhi</td>\n",
       "      <td>4th</td>\n",
       "      <td>Human Resource</td>\n",
       "      <td>Google Form</td>\n",
       "    </tr>\n",
       "    <tr>\n",
       "      <th>15</th>\n",
       "      <td>LD16</td>\n",
       "      <td>Ahmedabad</td>\n",
       "      <td>IIM A</td>\n",
       "      <td>2nd</td>\n",
       "      <td>Human Resource</td>\n",
       "      <td>Linkedin</td>\n",
       "    </tr>\n",
       "    <tr>\n",
       "      <th>16</th>\n",
       "      <td>LD17</td>\n",
       "      <td>Raipur</td>\n",
       "      <td>IIT Bombay</td>\n",
       "      <td>3rd</td>\n",
       "      <td>Artificial Intelligence</td>\n",
       "      <td>Linkedin</td>\n",
       "    </tr>\n",
       "    <tr>\n",
       "      <th>17</th>\n",
       "      <td>LD18</td>\n",
       "      <td>Ahmedabad</td>\n",
       "      <td>IIT Bombay</td>\n",
       "      <td>2nd</td>\n",
       "      <td>Artificial Intelligence</td>\n",
       "      <td>Whatsapp</td>\n",
       "    </tr>\n",
       "    <tr>\n",
       "      <th>18</th>\n",
       "      <td>LD19</td>\n",
       "      <td>Delhi</td>\n",
       "      <td>IIIT Hyderabad</td>\n",
       "      <td>2nd</td>\n",
       "      <td>Robotics</td>\n",
       "      <td>Linkedin</td>\n",
       "    </tr>\n",
       "    <tr>\n",
       "      <th>19</th>\n",
       "      <td>LD20</td>\n",
       "      <td>Delhi</td>\n",
       "      <td>IIM A</td>\n",
       "      <td>3rd</td>\n",
       "      <td>Artificial Intelligence</td>\n",
       "      <td>Instagram</td>\n",
       "    </tr>\n",
       "  </tbody>\n",
       "</table>\n",
       "</div>"
      ],
      "text/plain": [
       "   Lead_ID   Location                 College Year Of Study  \\\n",
       "0      LD1  Ahmedabad               IIT Delhi           2nd   \n",
       "1      LD2  Ahmedabad               IIT Delhi           4th   \n",
       "2      LD3      Delhi               IIT Delhi           4th   \n",
       "3      LD4  Bangalore             VNIT Nagpur           4th   \n",
       "4      LD5     Raipur            BIITS Raipur           4th   \n",
       "5      LD6  Bangalore                   IIM A           3rd   \n",
       "6      LD7  Ahmedabad          IIIT Hyderabad           2nd   \n",
       "7      LD8      Delhi            BIITS Raipur           3rd   \n",
       "8      LD9     Mumbai                   IIM A           1st   \n",
       "9     LD10  Ahmedabad  Ramdeobaba Univerisity           3rd   \n",
       "10    LD11     Raipur           IIM Bangalore           4th   \n",
       "11    LD12  Bangalore             VNIT Nagpur           3rd   \n",
       "12    LD13     Nagpur           IIM Bangalore           3rd   \n",
       "13    LD14  Hyderabad               IIT Delhi           4th   \n",
       "14    LD15     Nagpur               IIT Delhi           4th   \n",
       "15    LD16  Ahmedabad                   IIM A           2nd   \n",
       "16    LD17     Raipur              IIT Bombay           3rd   \n",
       "17    LD18  Ahmedabad              IIT Bombay           2nd   \n",
       "18    LD19      Delhi          IIIT Hyderabad           2nd   \n",
       "19    LD20      Delhi                   IIM A           3rd   \n",
       "\n",
       "            Program Intrest            Lead Source  \n",
       "0              Data Science  College Colloboration  \n",
       "1   Artificial Intelligence              Instagram  \n",
       "2              Data Science            Google Form  \n",
       "3            Human Resource              Instagram  \n",
       "4          Computer Science               Linkedin  \n",
       "5          Computer Science            Google Form  \n",
       "6            Human Resource            Google Form  \n",
       "7                   Finance              Instagram  \n",
       "8            Human Resource              Instagram  \n",
       "9                   Finance               Linkedin  \n",
       "10         Computer Science            Google Form  \n",
       "11         Computer Science               Linkedin  \n",
       "12                 Robotics            Google Form  \n",
       "13           Human Resource              Instagram  \n",
       "14           Human Resource            Google Form  \n",
       "15           Human Resource               Linkedin  \n",
       "16  Artificial Intelligence               Linkedin  \n",
       "17  Artificial Intelligence               Whatsapp  \n",
       "18                 Robotics               Linkedin  \n",
       "19  Artificial Intelligence              Instagram  "
      ]
     },
     "execution_count": 22,
     "metadata": {},
     "output_type": "execute_result"
    }
   ],
   "source": [
    "data.head(20)"
   ]
  },
  {
   "cell_type": "markdown",
   "metadata": {},
   "source": [
    "#### Grouping and Analysing the data"
   ]
  },
  {
   "cell_type": "markdown",
   "metadata": {},
   "source": [
    "# 2. Demographic Analysis:"
   ]
  },
  {
   "cell_type": "code",
   "execution_count": 23,
   "metadata": {},
   "outputs": [],
   "source": [
    "#Grouping by Location and Lead Source\n",
    "location_analysis= data.groupby(['Location','Lead Source']).size().unstack()\n",
    "\n"
   ]
  },
  {
   "cell_type": "code",
   "execution_count": 24,
   "metadata": {},
   "outputs": [
    {
     "data": {
      "text/html": [
       "<div>\n",
       "<style scoped>\n",
       "    .dataframe tbody tr th:only-of-type {\n",
       "        vertical-align: middle;\n",
       "    }\n",
       "\n",
       "    .dataframe tbody tr th {\n",
       "        vertical-align: top;\n",
       "    }\n",
       "\n",
       "    .dataframe thead th {\n",
       "        text-align: right;\n",
       "    }\n",
       "</style>\n",
       "<table border=\"1\" class=\"dataframe\">\n",
       "  <thead>\n",
       "    <tr style=\"text-align: right;\">\n",
       "      <th>Lead Source</th>\n",
       "      <th>College Colloboration</th>\n",
       "      <th>Google Form</th>\n",
       "      <th>Instagram</th>\n",
       "      <th>Linkedin</th>\n",
       "      <th>Whatsapp</th>\n",
       "    </tr>\n",
       "    <tr>\n",
       "      <th>Location</th>\n",
       "      <th></th>\n",
       "      <th></th>\n",
       "      <th></th>\n",
       "      <th></th>\n",
       "      <th></th>\n",
       "    </tr>\n",
       "  </thead>\n",
       "  <tbody>\n",
       "    <tr>\n",
       "      <th>Ahmedabad</th>\n",
       "      <td>597</td>\n",
       "      <td>590</td>\n",
       "      <td>562</td>\n",
       "      <td>582</td>\n",
       "      <td>568</td>\n",
       "    </tr>\n",
       "    <tr>\n",
       "      <th>Bangalore</th>\n",
       "      <td>608</td>\n",
       "      <td>561</td>\n",
       "      <td>582</td>\n",
       "      <td>540</td>\n",
       "      <td>573</td>\n",
       "    </tr>\n",
       "    <tr>\n",
       "      <th>Delhi</th>\n",
       "      <td>586</td>\n",
       "      <td>586</td>\n",
       "      <td>547</td>\n",
       "      <td>556</td>\n",
       "      <td>586</td>\n",
       "    </tr>\n",
       "    <tr>\n",
       "      <th>Hyderabad</th>\n",
       "      <td>583</td>\n",
       "      <td>546</td>\n",
       "      <td>592</td>\n",
       "      <td>595</td>\n",
       "      <td>597</td>\n",
       "    </tr>\n",
       "    <tr>\n",
       "      <th>Mumbai</th>\n",
       "      <td>560</td>\n",
       "      <td>624</td>\n",
       "      <td>571</td>\n",
       "      <td>564</td>\n",
       "      <td>529</td>\n",
       "    </tr>\n",
       "    <tr>\n",
       "      <th>Nagpur</th>\n",
       "      <td>553</td>\n",
       "      <td>575</td>\n",
       "      <td>536</td>\n",
       "      <td>548</td>\n",
       "      <td>559</td>\n",
       "    </tr>\n",
       "    <tr>\n",
       "      <th>Raipur</th>\n",
       "      <td>557</td>\n",
       "      <td>599</td>\n",
       "      <td>567</td>\n",
       "      <td>570</td>\n",
       "      <td>551</td>\n",
       "    </tr>\n",
       "  </tbody>\n",
       "</table>\n",
       "</div>"
      ],
      "text/plain": [
       "Lead Source  College Colloboration  Google Form  Instagram  Linkedin  Whatsapp\n",
       "Location                                                                      \n",
       "Ahmedabad                      597          590        562       582       568\n",
       "Bangalore                      608          561        582       540       573\n",
       "Delhi                          586          586        547       556       586\n",
       "Hyderabad                      583          546        592       595       597\n",
       "Mumbai                         560          624        571       564       529\n",
       "Nagpur                         553          575        536       548       559\n",
       "Raipur                         557          599        567       570       551"
      ]
     },
     "execution_count": 24,
     "metadata": {},
     "output_type": "execute_result"
    }
   ],
   "source": [
    "location_analysis"
   ]
  },
  {
   "cell_type": "markdown",
   "metadata": {},
   "source": [
    "# 3. Program Analysis"
   ]
  },
  {
   "cell_type": "code",
   "execution_count": 25,
   "metadata": {},
   "outputs": [],
   "source": [
    "# year of study analysis\n",
    "\n",
    "year_analysis = data['Year Of Study'].value_counts()"
   ]
  },
  {
   "cell_type": "code",
   "execution_count": 26,
   "metadata": {},
   "outputs": [
    {
     "data": {
      "text/plain": [
       "Year Of Study\n",
       "1st    5120\n",
       "2nd    5037\n",
       "3rd    4932\n",
       "4th    4911\n",
       "Name: count, dtype: int64"
      ]
     },
     "execution_count": 26,
     "metadata": {},
     "output_type": "execute_result"
    }
   ],
   "source": [
    "year_analysis"
   ]
  },
  {
   "cell_type": "code",
   "execution_count": 28,
   "metadata": {},
   "outputs": [
    {
     "data": {
      "text/plain": [
       "Program Intrest\n",
       "Artificial Intelligence    3383\n",
       "Computer Science           3380\n",
       "Finance                    3332\n",
       "Data Science               3307\n",
       "Robotics                   3303\n",
       "Human Resource             3295\n",
       "Name: count, dtype: int64"
      ]
     },
     "execution_count": 28,
     "metadata": {},
     "output_type": "execute_result"
    }
   ],
   "source": [
    "program_counts = data['Program Intrest'].value_counts()\n",
    "program_counts"
   ]
  },
  {
   "cell_type": "code",
   "execution_count": 30,
   "metadata": {},
   "outputs": [
    {
     "data": {
      "image/png": "[encoded data removed]",
      "text/plain": [
       "<Figure size 640x480 with 1 Axes>"
      ]
     },
     "metadata": {},
     "output_type": "display_data"
    }
   ],
   "source": [
    "program_counts.plot(kind='bar')\n",
    "plt.title('Intrest leveles for E Learning Programs')\n",
    "plt.xlabel('Program Interest')\n",
    "plt.ylabel('Number Of Leads')\n",
    "plt.show()"
   ]
  },
  {
   "cell_type": "markdown",
   "metadata": {},
   "source": [
    "There is no such major differntiating or anomalies in the dataset based on `Program Intrest` & `Leads`"
   ]
  },
  {
   "cell_type": "code",
   "execution_count": 34,
   "metadata": {},
   "outputs": [],
   "source": [
    "# Grouping by Program Interest and Year of Study\n",
    "demographic_analysis = data.groupby(['Program Intrest', 'Year Of Study']).size().unstack()\n"
   ]
  },
  {
   "cell_type": "code",
   "execution_count": 35,
   "metadata": {},
   "outputs": [
    {
     "data": {
      "text/html": [
       "<div>\n",
       "<style scoped>\n",
       "    .dataframe tbody tr th:only-of-type {\n",
       "        vertical-align: middle;\n",
       "    }\n",
       "\n",
       "    .dataframe tbody tr th {\n",
       "        vertical-align: top;\n",
       "    }\n",
       "\n",
       "    .dataframe thead th {\n",
       "        text-align: right;\n",
       "    }\n",
       "</style>\n",
       "<table border=\"1\" class=\"dataframe\">\n",
       "  <thead>\n",
       "    <tr style=\"text-align: right;\">\n",
       "      <th>Year Of Study</th>\n",
       "      <th>1st</th>\n",
       "      <th>2nd</th>\n",
       "      <th>3rd</th>\n",
       "      <th>4th</th>\n",
       "    </tr>\n",
       "    <tr>\n",
       "      <th>Program Intrest</th>\n",
       "      <th></th>\n",
       "      <th></th>\n",
       "      <th></th>\n",
       "      <th></th>\n",
       "    </tr>\n",
       "  </thead>\n",
       "  <tbody>\n",
       "    <tr>\n",
       "      <th>Artificial Intelligence</th>\n",
       "      <td>884</td>\n",
       "      <td>854</td>\n",
       "      <td>830</td>\n",
       "      <td>815</td>\n",
       "    </tr>\n",
       "    <tr>\n",
       "      <th>Computer Science</th>\n",
       "      <td>840</td>\n",
       "      <td>861</td>\n",
       "      <td>821</td>\n",
       "      <td>858</td>\n",
       "    </tr>\n",
       "    <tr>\n",
       "      <th>Data Science</th>\n",
       "      <td>820</td>\n",
       "      <td>863</td>\n",
       "      <td>845</td>\n",
       "      <td>779</td>\n",
       "    </tr>\n",
       "    <tr>\n",
       "      <th>Finance</th>\n",
       "      <td>902</td>\n",
       "      <td>813</td>\n",
       "      <td>809</td>\n",
       "      <td>808</td>\n",
       "    </tr>\n",
       "    <tr>\n",
       "      <th>Human Resource</th>\n",
       "      <td>826</td>\n",
       "      <td>831</td>\n",
       "      <td>816</td>\n",
       "      <td>822</td>\n",
       "    </tr>\n",
       "    <tr>\n",
       "      <th>Robotics</th>\n",
       "      <td>848</td>\n",
       "      <td>815</td>\n",
       "      <td>811</td>\n",
       "      <td>829</td>\n",
       "    </tr>\n",
       "  </tbody>\n",
       "</table>\n",
       "</div>"
      ],
      "text/plain": [
       "Year Of Study            1st  2nd  3rd  4th\n",
       "Program Intrest                            \n",
       "Artificial Intelligence  884  854  830  815\n",
       "Computer Science         840  861  821  858\n",
       "Data Science             820  863  845  779\n",
       "Finance                  902  813  809  808\n",
       "Human Resource           826  831  816  822\n",
       "Robotics                 848  815  811  829"
      ]
     },
     "execution_count": 35,
     "metadata": {},
     "output_type": "execute_result"
    }
   ],
   "source": [
    "demographic_analysis"
   ]
  },
  {
   "cell_type": "markdown",
   "metadata": {},
   "source": [
    "Data Seems to be very balance and equally distributed"
   ]
  },
  {
   "cell_type": "markdown",
   "metadata": {},
   "source": [
    "Calculating and Making Recommendations\n"
   ]
  },
  {
   "cell_type": "code",
   "execution_count": 36,
   "metadata": {},
   "outputs": [],
   "source": [
    "recommendations = {}\n",
    "for program in program_counts.index:\n",
    "    year_data = demographic_analysis.loc[program]\n",
    "    \n",
    "    # based on max value \n",
    "    target_year = year_data.idxmax() \n",
    "    recommendations[program] = target_year"
   ]
  },
  {
   "cell_type": "code",
   "execution_count": 37,
   "metadata": {},
   "outputs": [
    {
     "name": "stdout",
     "output_type": "stream",
     "text": [
      "Recommendations for Targeting Demographics:\n",
      "Target 1st students for the Artificial Intelligence program.\n",
      "Target 2nd students for the Computer Science program.\n",
      "Target 1st students for the Finance program.\n",
      "Target 2nd students for the Data Science program.\n",
      "Target 1st students for the Robotics program.\n",
      "Target 2nd students for the Human Resource program.\n"
     ]
    }
   ],
   "source": [
    "print(\"Recommendations for Targeting Demographics:\")\n",
    "for program, year in recommendations.items():\n",
    "    print(f\"Target {year} students for the {program} program.\")"
   ]
  },
  {
   "cell_type": "markdown",
   "metadata": {},
   "source": [
    "## 4. Projections and Predictions:"
   ]
  },
  {
   "cell_type": "markdown",
   "metadata": {},
   "source": [
    "! Assumptions/Predictions : \n",
    "Assuming a hypothetical Conversion rates"
   ]
  },
  {
   "cell_type": "code",
   "execution_count": 38,
   "metadata": {},
   "outputs": [],
   "source": [
    "conversion_rates={\n",
    "    'Data Science' : 0.15,\n",
    "    'Robotics' : 0.05,\n",
    "    'Artificial Intelligence' : 0.20,\n",
    "    'Human Resource' : 0.10,\n",
    "    'Computer Science' : 0.05,\n",
    "    'Finance' : 0.15\n",
    "}"
   ]
  },
  {
   "cell_type": "code",
   "execution_count": 41,
   "metadata": {},
   "outputs": [],
   "source": [
    "projected_leads = data['Program Intrest'].value_counts()\n",
    "projected_coversions = projected_leads * projected_leads.index.map(conversion_rates)"
   ]
  },
  {
   "cell_type": "code",
   "execution_count": 42,
   "metadata": {},
   "outputs": [],
   "source": [
    "conversion_df = pd.DataFrame({\n",
    "    'Projected Leads' : projected_leads,\n",
    "    'Projected Conversions' : projected_coversions\n",
    "})"
   ]
  },
  {
   "cell_type": "code",
   "execution_count": 43,
   "metadata": {},
   "outputs": [
    {
     "data": {
      "text/html": [
       "<div>\n",
       "<style scoped>\n",
       "    .dataframe tbody tr th:only-of-type {\n",
       "        vertical-align: middle;\n",
       "    }\n",
       "\n",
       "    .dataframe tbody tr th {\n",
       "        vertical-align: top;\n",
       "    }\n",
       "\n",
       "    .dataframe thead th {\n",
       "        text-align: right;\n",
       "    }\n",
       "</style>\n",
       "<table border=\"1\" class=\"dataframe\">\n",
       "  <thead>\n",
       "    <tr style=\"text-align: right;\">\n",
       "      <th></th>\n",
       "      <th>Projected Leads</th>\n",
       "      <th>Projected Conversions</th>\n",
       "    </tr>\n",
       "    <tr>\n",
       "      <th>Program Intrest</th>\n",
       "      <th></th>\n",
       "      <th></th>\n",
       "    </tr>\n",
       "  </thead>\n",
       "  <tbody>\n",
       "    <tr>\n",
       "      <th>Artificial Intelligence</th>\n",
       "      <td>3383</td>\n",
       "      <td>676.60</td>\n",
       "    </tr>\n",
       "    <tr>\n",
       "      <th>Computer Science</th>\n",
       "      <td>3380</td>\n",
       "      <td>169.00</td>\n",
       "    </tr>\n",
       "    <tr>\n",
       "      <th>Finance</th>\n",
       "      <td>3332</td>\n",
       "      <td>499.80</td>\n",
       "    </tr>\n",
       "    <tr>\n",
       "      <th>Data Science</th>\n",
       "      <td>3307</td>\n",
       "      <td>496.05</td>\n",
       "    </tr>\n",
       "    <tr>\n",
       "      <th>Robotics</th>\n",
       "      <td>3303</td>\n",
       "      <td>165.15</td>\n",
       "    </tr>\n",
       "    <tr>\n",
       "      <th>Human Resource</th>\n",
       "      <td>3295</td>\n",
       "      <td>329.50</td>\n",
       "    </tr>\n",
       "  </tbody>\n",
       "</table>\n",
       "</div>"
      ],
      "text/plain": [
       "                         Projected Leads  Projected Conversions\n",
       "Program Intrest                                                \n",
       "Artificial Intelligence             3383                 676.60\n",
       "Computer Science                    3380                 169.00\n",
       "Finance                             3332                 499.80\n",
       "Data Science                        3307                 496.05\n",
       "Robotics                            3303                 165.15\n",
       "Human Resource                      3295                 329.50"
      ]
     },
     "execution_count": 43,
     "metadata": {},
     "output_type": "execute_result"
    }
   ],
   "source": [
    "conversion_df"
   ]
  },
  {
   "cell_type": "markdown",
   "metadata": {},
   "source": [
    "### Now for furthure marketing Calculations,\n",
    "* We are assuming Total Marketing Budget = 100000\n"
   ]
  },
  {
   "cell_type": "code",
   "execution_count": 44,
   "metadata": {},
   "outputs": [],
   "source": [
    "total_budget= 100000"
   ]
  },
  {
   "cell_type": "code",
   "execution_count": 45,
   "metadata": {},
   "outputs": [],
   "source": [
    "budget_allocations={}"
   ]
  },
  {
   "cell_type": "code",
   "execution_count": 46,
   "metadata": {},
   "outputs": [],
   "source": [
    "for program in projected_leads.index:\n",
    "    budget_allocations[program] = (projected_coversions[program] / projected_coversions.sum()) * total_budget"
   ]
  },
  {
   "cell_type": "code",
   "execution_count": 48,
   "metadata": {},
   "outputs": [
    {
     "name": "stdout",
     "output_type": "stream",
     "text": [
      "Budget Allocation Strategy:\n",
      "Allocate INR 28962.80 for Artificial Intelligence program.\n",
      "Allocate INR 7234.28 for Computer Science program.\n",
      "Allocate INR 21394.63 for Finance program.\n",
      "Allocate INR 21234.11 for Data Science program.\n",
      "Allocate INR 7069.47 for Robotics program.\n",
      "Allocate INR 14104.70 for Human Resource program.\n"
     ]
    }
   ],
   "source": [
    "print(\"Budget Allocation Strategy:\")\n",
    "for program , budget in budget_allocations.items():\n",
    "    print(f\"Allocate INR{budget: .2f} for {program} program.\")"
   ]
  },
  {
   "cell_type": "code",
   "execution_count": 49,
   "metadata": {},
   "outputs": [
    {
     "data": {
      "text/plain": [
       "<Figure size 1000x600 with 0 Axes>"
      ]
     },
     "metadata": {},
     "output_type": "display_data"
    },
    {
     "data": {
      "image/png": "[encoded data removed]",
      "text/plain": [
       "<Figure size 640x480 with 1 Axes>"
      ]
     },
     "metadata": {},
     "output_type": "display_data"
    }
   ],
   "source": [
    "plt.figure(figsize=(10, 6))\n",
    "conversion_df[['Projected Leads', 'Projected Conversions']].plot(kind='bar', color=['lightgreen', 'salmon'])\n",
    "\n",
    "plt.title('Projected Leads and Conversions for E-learning Programs')\n",
    "\n",
    "plt.xlabel('Program Interest')\n",
    "plt.ylabel('Count')\n",
    "\n",
    "plt.xticks(rotation=45)\n",
    "plt.grid(axis='y')\n",
    "plt.legend([\"Projected Leads\", \"Projected Conversions\"])\n",
    "plt.tight_layout()  \n",
    "plt.show()"
   ]
  },
  {
   "cell_type": "markdown",
   "metadata": {},
   "source": [
    "The Graphs are ploted according to the conversion rates (Which we have assumed)"
   ]
  }
 ],
 "metadata": {
  "kernelspec": {
   "display_name": "venv",
   "language": "python",
   "name": "python3"
  },
  "language_info": {
   "codemirror_mode": {
    "name": "ipython",
    "version": 3
   },
   "file_extension": ".py",
   "mimetype": "text/x-python",
   "name": "python",
   "nbconvert_exporter": "python",
   "pygments_lexer": "ipython3",
   "version": "3.12.8"
  }
 },
 "nbformat": 4,
 "nbformat_minor": 2
}
